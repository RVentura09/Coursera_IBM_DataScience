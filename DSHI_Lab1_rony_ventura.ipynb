{
 "cells": [
  {
   "cell_type": "markdown",
   "id": "5d2deff2",
   "metadata": {
    "slideshow": {
     "slide_type": "-"
    }
   },
   "source": [
    "# Lab 1\n",
    "Data Analysis about Breast Cancer \n"
   ]
  },
  {
   "cell_type": "code",
   "execution_count": null,
   "id": "61c3783c",
   "metadata": {},
   "outputs": [],
   "source": []
  },
  {
   "cell_type": "code",
   "execution_count": 1,
   "id": "cecd6d00",
   "metadata": {
    "slideshow": {
     "slide_type": "-"
    }
   },
   "outputs": [],
   "source": [
    " student_name =   \"Rony Ventura\"\n",
    " student_id =     \"rove3809\"\n",
    " student_email =  \"rove3809@student.su.se\""
   ]
  },
  {
   "cell_type": "markdown",
   "id": "2d5ab81d",
   "metadata": {
    "slideshow": {
     "slide_type": "-"
    }
   },
   "source": [
    "# 3 Conduct an initial appraisal of the data without coding anything. While analyzing the dataset files, create multiple **text cells** in the jupyter notebook where you reflect and comment on the following statements: *(Again, the answer to these statements should be text formatted in markdown and not code, you will do the code later)*:"
   ]
  },
  {
   "cell_type": "markdown",
   "id": "182dd539",
   "metadata": {
    "slideshow": {
     "slide_type": "-"
    }
   },
   "source": [
    "#### a) What is the domain area of the dataset? Under which circumstances was it collected? For which kind of task or purpose was the dataset collected?\n",
    "This dataset consists of a group of breast cancer patients, who had surgery to remove their tumour. There is no information regarding how  or for what purpose was it collected. By overviewing the data I think that it can be usefull for stadistics and some information regarding the chances of surviving after the removal of the tumour depending on the stage and histology type."
   ]
  },
  {
   "cell_type": "markdown",
   "id": "76bd0ae9",
   "metadata": {
    "slideshow": {
     "slide_type": "-"
    }
   },
   "source": [
    "#### b) How many files does the dataset have? Which data format? Do the files have headers or another file describing the data? Are the data values separated by commas, semicolon, or tabs? Do you need to load and analyze all the files or just some of them contain valuable data?\n",
    "\n",
    "The dataset is in one .csv file with its respective headers. The data values are separated by commas therefore the default separator is used.This file contains all the needed data for this assignment "
   ]
  },
  {
   "cell_type": "markdown",
   "id": "ccd4e5cc",
   "metadata": {
    "slideshow": {
     "slide_type": "-"
    }
   },
   "source": [
    "#### c) How many features and how many observations does the dataset have?\n",
    "The dataset contains 16 features with 334 observations"
   ]
  },
  {
   "cell_type": "markdown",
   "id": "cd8a280a",
   "metadata": {
    "slideshow": {
     "slide_type": "-"
    }
   },
   "source": [
    "#### d) Does it contain numerical features? How many? What are the feature names? If it does not contain numerical features, please find a different dataset where you can conduct numerical analysis.\n",
    "\n",
    "The dataset contains 5 numeric features : Age,Protein1,Protein2,Protein3,Protein4."
   ]
  },
  {
   "cell_type": "markdown",
   "id": "247ed0cf",
   "metadata": {},
   "source": [
    "#### e) Does it contain categorical features? How many? What are the feature names?\n",
    "The dataset contains 3 categorical features :Surgery_type,Histology,Tumour_Stage"
   ]
  },
  {
   "cell_type": "markdown",
   "id": "a07b8007",
   "metadata": {},
   "source": [
    "#### f) Does it contain binary features? How many? What are the feature names? If it does not contain, which relevant binary feature could you add to the dataset?\n",
    "The dataset contains 5 binary features : Gender,ER status,PR status,HER2 status,Patient_Status"
   ]
  },
  {
   "cell_type": "markdown",
   "id": "52963b60",
   "metadata": {},
   "source": [
    "# 4 Basic EDA"
   ]
  },
  {
   "cell_type": "markdown",
   "id": "9df2a411",
   "metadata": {},
   "source": [
    "#### 4.1 Load the dataset into a pandas DataFrame properly formatted with headers and data types."
   ]
  },
  {
   "cell_type": "code",
   "execution_count": 2,
   "id": "88cc877e",
   "metadata": {},
   "outputs": [],
   "source": [
    "import numpy as np\n",
    "import pandas as pd\n",
    "import matplotlib.pyplot as plt"
   ]
  },
  {
   "cell_type": "code",
   "execution_count": 3,
   "id": "c798b298",
   "metadata": {
    "scrolled": false
   },
   "outputs": [
    {
     "data": {
      "text/plain": [
       "Patient_ID                    string\n",
       "Age                            int32\n",
       "Gender                      category\n",
       "Protein1                     float64\n",
       "Protein2                     float64\n",
       "Protein3                     float64\n",
       "Protein4                     float64\n",
       "Tumour_Stage                category\n",
       "Histology                   category\n",
       "ER status                   category\n",
       "PR status                   category\n",
       "HER2 status                 category\n",
       "Surgery_type                category\n",
       "Date_of_Surgery       datetime64[ns]\n",
       "Date_of_Last_Visit    datetime64[ns]\n",
       "Patient_Status              category\n",
       "dtype: object"
      ]
     },
     "execution_count": 3,
     "metadata": {},
     "output_type": "execute_result"
    }
   ],
   "source": [
    "df = pd.read_csv(\"BRCA.csv\")\n",
    "\"\"\"df.dropna(inplace=True) # deleting null values\n",
    "dummy=pd.get_dummies(df[\"Gender\"]) # creating dummies to change the data type to boolean 1 and 0 values\n",
    "dummy2=pd.get_dummies(df[\"ER status\"])\n",
    "dummy3=pd.get_dummies(df[\"PR status\"])\n",
    "dummy4=pd.get_dummies(df[\"HER2 status\"])\n",
    "dummy5=pd.get_dummies(df[\"Patient_Status\"])\n",
    "df2=pd.concat((df,dummy), axis=1)\n",
    "df2=df2.drop([\"Gender\"],axis =1)\n",
    "df2=df2.drop([\"MALE\"],axis=1)\n",
    "df2=df2.rename(columns={\"FEMALE\":\"Gender\"})\n",
    "# Gender female is 1 and male is 0\n",
    "df2=pd.concat((df,dummy2), axis=1)\n",
    "df2=df2.drop([\"ER status\"],axis =1)\n",
    "df2=df2.rename(columns={\"Positive\":\"ER status\"})\n",
    "# ER status positive is 1 and negative is 0\n",
    "df2=pd.concat((df,dummy3), axis=1)\n",
    "df2=df2.drop([\"PR status\"],axis =1)\n",
    "df2=df2.rename(columns={\"Positive\":\"PR status\"})\n",
    "#PR status positive is 1 and negative is 0\n",
    "df2=pd.concat((df,dummy4), axis=1)\n",
    "df2=df2.drop([\"HER2 status\"],axis =1)\n",
    "df2=df2.drop([\"Negative\"],axis=1)\n",
    "df2=df2.rename(columns={\"Positive\":\"HER2 status\"})\n",
    "#HER2 status positve is 1 and negative is 0\n",
    "df2=pd.concat((df,dummy5), axis=1)\n",
    "df2=df2.drop([\"Patient_Status\"],axis =1)\n",
    "df2=df2.drop([\"Dead\"],axis=1)\n",
    "df2=df2.rename(columns={\"Alive\":\"Patient_Status\"})\n",
    "#Patient_Status alive is 1 and dead is 0\n",
    "\"\"\" # Code commented is to cast binary data type to boolean 1 and 0 in case it is preferred to use boolean values\n",
    "df2=df\n",
    "df2[\"Patient_ID\"] = df2[\"Patient_ID\"].astype(\"string\")\n",
    "df2[\"Age\"] = df2[\"Age\"].astype(\"int\")\n",
    "df2[\"Gender\"] = df2[\"Gender\"].astype(\"category\")#Casted as category to facilitate data operations with their real values \"Male\" or \"Female\"\n",
    "df2[\"Histology\"] = df2[\"Histology\"].astype(\"category\")\n",
    "df2[\"Tumour_Stage\"] = df2[\"Tumour_Stage\"].astype(\"category\")\n",
    "df2[\"ER status\"] = df2[\"ER status\"].astype(\"category\")#Casted as category to facilitate data operations with their real values \"Positive\" or \"Negative\"\n",
    "df2[\"PR status\"] = df2[\"PR status\"].astype(\"category\")#Casted as category to facilitate data operations with their real values \"Positive\" or \"Negative\"\n",
    "df2[\"HER2 status\"] = df2[\"HER2 status\"].astype(\"category\")#Casted as category to facilitate data operations with their real values \"Positive\" or \"Negative\"\n",
    "df2[\"Surgery_type\"] = df2[\"Surgery_type\"].astype(\"category\")\n",
    "df2[\"Date_of_Surgery\"] = df2[\"Date_of_Surgery\"].astype(\"datetime64\")\n",
    "df2[\"Date_of_Last_Visit\"] = df2[\"Date_of_Last_Visit\"].astype(\"datetime64\")\n",
    "df2[\"Patient_Status\"] = df2[\"Patient_Status\"].astype(\"category\")#Casted as category to facilitate data operations with their real values \"Alive\" or \"Dead\"\n",
    "df2.dtypes\n",
    "\n"
   ]
  },
  {
   "cell_type": "code",
   "execution_count": 4,
   "id": "f2507472",
   "metadata": {},
   "outputs": [
    {
     "data": {
      "text/plain": [
       "Patient_ID             0\n",
       "Age                    0\n",
       "Gender                 0\n",
       "Protein1               0\n",
       "Protein2               0\n",
       "Protein3               0\n",
       "Protein4               0\n",
       "Tumour_Stage           0\n",
       "Histology              0\n",
       "ER status              0\n",
       "PR status              0\n",
       "HER2 status            0\n",
       "Surgery_type           0\n",
       "Date_of_Surgery        0\n",
       "Date_of_Last_Visit    17\n",
       "Patient_Status        13\n",
       "dtype: int64"
      ]
     },
     "execution_count": 4,
     "metadata": {},
     "output_type": "execute_result"
    }
   ],
   "source": [
    "df2.isnull().sum() #checking null values"
   ]
  },
  {
   "cell_type": "markdown",
   "id": "26890123",
   "metadata": {},
   "source": [
    "#### 4.2 Perform the basic steps of data preparation, and numerical understanding of the data (feature selection, handle missing values).\n"
   ]
  },
  {
   "cell_type": "code",
   "execution_count": 5,
   "id": "c95e6d62",
   "metadata": {},
   "outputs": [],
   "source": [
    "df2.dropna(inplace=True)\n",
    "df.dropna(inplace=True) # dropping null values on the 2 data frames to be able to run the first code that was commented"
   ]
  },
  {
   "cell_type": "code",
   "execution_count": 6,
   "id": "acbb1c04",
   "metadata": {},
   "outputs": [
    {
     "data": {
      "text/plain": [
       "Patient_ID            0\n",
       "Age                   0\n",
       "Gender                0\n",
       "Protein1              0\n",
       "Protein2              0\n",
       "Protein3              0\n",
       "Protein4              0\n",
       "Tumour_Stage          0\n",
       "Histology             0\n",
       "ER status             0\n",
       "PR status             0\n",
       "HER2 status           0\n",
       "Surgery_type          0\n",
       "Date_of_Surgery       0\n",
       "Date_of_Last_Visit    0\n",
       "Patient_Status        0\n",
       "dtype: int64"
      ]
     },
     "execution_count": 6,
     "metadata": {},
     "output_type": "execute_result"
    }
   ],
   "source": [
    "df2.isnull().sum() #check if null values have been dropped"
   ]
  },
  {
   "cell_type": "code",
   "execution_count": 7,
   "id": "0694068f",
   "metadata": {},
   "outputs": [
    {
     "data": {
      "text/plain": [
       "Tumour_Stage\n",
       "I       60\n",
       "II     180\n",
       "III     77\n",
       "dtype: int64"
      ]
     },
     "execution_count": 7,
     "metadata": {},
     "output_type": "execute_result"
    }
   ],
   "source": [
    "df2.groupby(by=\"Tumour_Stage\").size() #How many patients are per tumour stage"
   ]
  },
  {
   "cell_type": "code",
   "execution_count": 8,
   "id": "ba7a060a",
   "metadata": {},
   "outputs": [
    {
     "data": {
      "text/plain": [
       "Histology\n",
       "Infiltrating Ductal Carcinoma     224\n",
       "Infiltrating Lobular Carcinoma     81\n",
       "Mucinous Carcinoma                 12\n",
       "dtype: int64"
      ]
     },
     "execution_count": 8,
     "metadata": {},
     "output_type": "execute_result"
    }
   ],
   "source": [
    "df2.groupby(by=\"Histology\").size() # How many patients per histology type"
   ]
  },
  {
   "cell_type": "code",
   "execution_count": 9,
   "id": "2c5d38f3",
   "metadata": {},
   "outputs": [
    {
     "data": {
      "text/plain": [
       "Patient_Status\n",
       "Alive    255\n",
       "Dead      62\n",
       "dtype: int64"
      ]
     },
     "execution_count": 9,
     "metadata": {},
     "output_type": "execute_result"
    }
   ],
   "source": [
    "df.groupby(by=\"Patient_Status\").size() # How many patients are alive or dead"
   ]
  },
  {
   "cell_type": "code",
   "execution_count": 10,
   "id": "3612dadd",
   "metadata": {},
   "outputs": [
    {
     "data": {
      "text/plain": [
       "(317, 16)"
      ]
     },
     "execution_count": 10,
     "metadata": {},
     "output_type": "execute_result"
    }
   ],
   "source": [
    "df2.shape #Overall size of the dataframe"
   ]
  },
  {
   "cell_type": "code",
   "execution_count": 11,
   "id": "313bc227",
   "metadata": {},
   "outputs": [
    {
     "data": {
      "text/html": [
       "<div>\n",
       "<style scoped>\n",
       "    .dataframe tbody tr th:only-of-type {\n",
       "        vertical-align: middle;\n",
       "    }\n",
       "\n",
       "    .dataframe tbody tr th {\n",
       "        vertical-align: top;\n",
       "    }\n",
       "\n",
       "    .dataframe thead th {\n",
       "        text-align: right;\n",
       "    }\n",
       "</style>\n",
       "<table border=\"1\" class=\"dataframe\">\n",
       "  <thead>\n",
       "    <tr style=\"text-align: right;\">\n",
       "      <th></th>\n",
       "      <th>Age</th>\n",
       "      <th>Protein1</th>\n",
       "      <th>Protein2</th>\n",
       "      <th>Protein3</th>\n",
       "      <th>Protein4</th>\n",
       "    </tr>\n",
       "  </thead>\n",
       "  <tbody>\n",
       "    <tr>\n",
       "      <th>count</th>\n",
       "      <td>317.000000</td>\n",
       "      <td>317.000000</td>\n",
       "      <td>317.000000</td>\n",
       "      <td>317.000000</td>\n",
       "      <td>317.000000</td>\n",
       "    </tr>\n",
       "    <tr>\n",
       "      <th>mean</th>\n",
       "      <td>58.725552</td>\n",
       "      <td>-0.027232</td>\n",
       "      <td>0.949557</td>\n",
       "      <td>-0.095104</td>\n",
       "      <td>0.006713</td>\n",
       "    </tr>\n",
       "    <tr>\n",
       "      <th>std</th>\n",
       "      <td>12.827374</td>\n",
       "      <td>0.543858</td>\n",
       "      <td>0.906153</td>\n",
       "      <td>0.589027</td>\n",
       "      <td>0.625965</td>\n",
       "    </tr>\n",
       "    <tr>\n",
       "      <th>min</th>\n",
       "      <td>29.000000</td>\n",
       "      <td>-2.144600</td>\n",
       "      <td>-0.978730</td>\n",
       "      <td>-1.627400</td>\n",
       "      <td>-2.025500</td>\n",
       "    </tr>\n",
       "    <tr>\n",
       "      <th>25%</th>\n",
       "      <td>49.000000</td>\n",
       "      <td>-0.350600</td>\n",
       "      <td>0.368840</td>\n",
       "      <td>-0.531360</td>\n",
       "      <td>-0.382240</td>\n",
       "    </tr>\n",
       "    <tr>\n",
       "      <th>50%</th>\n",
       "      <td>58.000000</td>\n",
       "      <td>0.005649</td>\n",
       "      <td>0.997130</td>\n",
       "      <td>-0.193040</td>\n",
       "      <td>0.038522</td>\n",
       "    </tr>\n",
       "    <tr>\n",
       "      <th>75%</th>\n",
       "      <td>67.000000</td>\n",
       "      <td>0.336260</td>\n",
       "      <td>1.612000</td>\n",
       "      <td>0.251210</td>\n",
       "      <td>0.436250</td>\n",
       "    </tr>\n",
       "    <tr>\n",
       "      <th>max</th>\n",
       "      <td>90.000000</td>\n",
       "      <td>1.593600</td>\n",
       "      <td>3.402200</td>\n",
       "      <td>2.193400</td>\n",
       "      <td>1.629900</td>\n",
       "    </tr>\n",
       "  </tbody>\n",
       "</table>\n",
       "</div>"
      ],
      "text/plain": [
       "              Age    Protein1    Protein2    Protein3    Protein4\n",
       "count  317.000000  317.000000  317.000000  317.000000  317.000000\n",
       "mean    58.725552   -0.027232    0.949557   -0.095104    0.006713\n",
       "std     12.827374    0.543858    0.906153    0.589027    0.625965\n",
       "min     29.000000   -2.144600   -0.978730   -1.627400   -2.025500\n",
       "25%     49.000000   -0.350600    0.368840   -0.531360   -0.382240\n",
       "50%     58.000000    0.005649    0.997130   -0.193040    0.038522\n",
       "75%     67.000000    0.336260    1.612000    0.251210    0.436250\n",
       "max     90.000000    1.593600    3.402200    2.193400    1.629900"
      ]
     },
     "execution_count": 11,
     "metadata": {},
     "output_type": "execute_result"
    }
   ],
   "source": [
    "df2.describe() #numeric information of certain values\n"
   ]
  },
  {
   "cell_type": "code",
   "execution_count": 12,
   "id": "e20a5a9d",
   "metadata": {},
   "outputs": [
    {
     "data": {
      "text/html": [
       "<div>\n",
       "<style scoped>\n",
       "    .dataframe tbody tr th:only-of-type {\n",
       "        vertical-align: middle;\n",
       "    }\n",
       "\n",
       "    .dataframe tbody tr th {\n",
       "        vertical-align: top;\n",
       "    }\n",
       "\n",
       "    .dataframe thead th {\n",
       "        text-align: right;\n",
       "    }\n",
       "</style>\n",
       "<table border=\"1\" class=\"dataframe\">\n",
       "  <thead>\n",
       "    <tr style=\"text-align: right;\">\n",
       "      <th></th>\n",
       "      <th>Tumour_Stage</th>\n",
       "      <th>Patient_Status</th>\n",
       "    </tr>\n",
       "  </thead>\n",
       "  <tbody>\n",
       "    <tr>\n",
       "      <th>count</th>\n",
       "      <td>317</td>\n",
       "      <td>317</td>\n",
       "    </tr>\n",
       "    <tr>\n",
       "      <th>unique</th>\n",
       "      <td>3</td>\n",
       "      <td>2</td>\n",
       "    </tr>\n",
       "    <tr>\n",
       "      <th>top</th>\n",
       "      <td>II</td>\n",
       "      <td>Alive</td>\n",
       "    </tr>\n",
       "    <tr>\n",
       "      <th>freq</th>\n",
       "      <td>180</td>\n",
       "      <td>255</td>\n",
       "    </tr>\n",
       "  </tbody>\n",
       "</table>\n",
       "</div>"
      ],
      "text/plain": [
       "       Tumour_Stage Patient_Status\n",
       "count           317            317\n",
       "unique            3              2\n",
       "top              II          Alive\n",
       "freq            180            255"
      ]
     },
     "execution_count": 12,
     "metadata": {},
     "output_type": "execute_result"
    }
   ],
   "source": [
    "df[[\"Tumour_Stage\",\"Patient_Status\"]].describe() #relevant information of tumour stage and patient status\n"
   ]
  },
  {
   "cell_type": "markdown",
   "id": "ccdf31f6",
   "metadata": {},
   "source": [
    "#### 4.3 Formulate 3 simple questions that you can answer from your dataset (see section 'Understanding the data numerically'). Besides writing the code, provide a written answer to your question based on the obtained numerical results.\n"
   ]
  },
  {
   "cell_type": "markdown",
   "id": "64f96100",
   "metadata": {},
   "source": [
    "1. How many Male patients are?\n",
    "\n",
    "\n"
   ]
  },
  {
   "cell_type": "code",
   "execution_count": 13,
   "id": "edae31c3",
   "metadata": {
    "scrolled": true
   },
   "outputs": [
    {
     "name": "stdout",
     "output_type": "stream",
     "text": [
      "The generated subset size is : (4, 16)\n"
     ]
    },
    {
     "data": {
      "text/plain": [
       "Gender\n",
       "FEMALE    0\n",
       "MALE      4\n",
       "dtype: int64"
      ]
     },
     "execution_count": 13,
     "metadata": {},
     "output_type": "execute_result"
    }
   ],
   "source": [
    "#1. How many Male patients are?\n",
    "\n",
    "df3 = df2[ (df2[\"Gender\"]==\"MALE\")  ]\n",
    "print(\"The generated subset size is :\",df3.shape)\n",
    "df3.groupby(by=\"Gender\").size()\n"
   ]
  },
  {
   "cell_type": "markdown",
   "id": "bf2f927e",
   "metadata": {},
   "source": [
    "A: There are a total of 4 male patients registered on the data set "
   ]
  },
  {
   "cell_type": "markdown",
   "id": "9e7461af",
   "metadata": {},
   "source": [
    "2. How many patients with age of 55 or older have tumour stage III?\n",
    "\n"
   ]
  },
  {
   "cell_type": "code",
   "execution_count": 14,
   "id": "d6c0b61f",
   "metadata": {},
   "outputs": [
    {
     "name": "stdout",
     "output_type": "stream",
     "text": [
      "The generated subset size is : (37, 16)\n"
     ]
    },
    {
     "data": {
      "text/plain": [
       "Tumour_Stage\n",
       "I       0\n",
       "II      0\n",
       "III    37\n",
       "dtype: int64"
      ]
     },
     "execution_count": 14,
     "metadata": {},
     "output_type": "execute_result"
    }
   ],
   "source": [
    "# How many patients with age of 55 or older have tumour stage III\n",
    "\n",
    "df4 = df2[ (df2[\"Age\"]>=55) & (df2[\"Tumour_Stage\"]==\"III\")  ]\n",
    "print(\"The generated subset size is :\",df4.shape)\n",
    "df4.groupby(by=\"Tumour_Stage\").size()\n"
   ]
  },
  {
   "cell_type": "markdown",
   "id": "62296534",
   "metadata": {},
   "source": [
    "A:There are a total of 37 patients who are 55 or older and have tumour stage III"
   ]
  },
  {
   "cell_type": "markdown",
   "id": "833045aa",
   "metadata": {},
   "source": [
    "3. How many patients with age of 45 or younger have tumour stage I and have already died?\n",
    "\n"
   ]
  },
  {
   "cell_type": "code",
   "execution_count": 15,
   "id": "cba1bf78",
   "metadata": {},
   "outputs": [
    {
     "name": "stdout",
     "output_type": "stream",
     "text": [
      "The generated subset size is : (2, 16)\n"
     ]
    },
    {
     "data": {
      "text/plain": [
       "Tumour_Stage\n",
       "I      2\n",
       "II     0\n",
       "III    0\n",
       "dtype: int64"
      ]
     },
     "execution_count": 15,
     "metadata": {},
     "output_type": "execute_result"
    }
   ],
   "source": [
    "# How many patients with age of 45 or younger have tumour stage I and have already died\n",
    "\n",
    "df5 = df2[ (df2[\"Age\"]<=45) & (df2[\"Tumour_Stage\"]==\"I\") & (df2[\"Patient_Status\"]==\"Dead\")]\n",
    "print(\"The generated subset size is :\",df5.shape)\n",
    "df5.groupby(by=\"Tumour_Stage\").size()"
   ]
  },
  {
   "cell_type": "markdown",
   "id": "53fb9920",
   "metadata": {},
   "source": [
    "A:There are a total of 2 patients that are 45 or younger with stage I tumour that have already died"
   ]
  },
  {
   "cell_type": "markdown",
   "id": "2f6096f1",
   "metadata": {},
   "source": [
    "#### 4.4 Create at least two univariate and two multivariate plots describing your data graphically. \n",
    "Provide a written description of what you can interpret from your plots. You are encouraged to experiment new visualization techniques from the official datasets beyond the ones that were provided in the notebook as example."
   ]
  },
  {
   "cell_type": "code",
   "execution_count": 16,
   "id": "32dc2072",
   "metadata": {
    "scrolled": false
   },
   "outputs": [
    {
     "data": {
      "text/plain": [
       "Text(0, 0.5, '# of patients')"
      ]
     },
     "execution_count": 16,
     "metadata": {},
     "output_type": "execute_result"
    },
    {
     "data": {
      "image/png": "[encoded data removed]",
      "text/plain": [
       "<Figure size 432x288 with 1 Axes>"
      ]
     },
     "metadata": {
      "needs_background": "light"
     },
     "output_type": "display_data"
    }
   ],
   "source": [
    "df2[\"Tumour_Stage\"].hist(bins=5)\n",
    "plt.title(\"Tumour stage quantities\")\n",
    "plt.xlabel('Tumour Stage')\n",
    "plt.ylabel('# of patients')"
   ]
  },
  {
   "cell_type": "markdown",
   "id": "e29e34d2",
   "metadata": {},
   "source": [
    "Interpretation : The mayority of the patients have a tumour stage II and  60 patients are on stage I"
   ]
  },
  {
   "cell_type": "code",
   "execution_count": 17,
   "id": "9d2ba206",
   "metadata": {},
   "outputs": [
    {
     "data": {
      "image/png": "[encoded data removed]",
      "text/plain": [
       "<Figure size 432x288 with 1 Axes>"
      ]
     },
     "metadata": {
      "needs_background": "light"
     },
     "output_type": "display_data"
    }
   ],
   "source": [
    "plt.boxplot(df2[\"Age\"])\n",
    "plt.title(\"Ages\")\n",
    "plt.ylabel('Age')\n",
    "plt.show()"
   ]
  },
  {
   "cell_type": "markdown",
   "id": "fc0e2aae",
   "metadata": {},
   "source": [
    "Interpretation : Mean patients age is 58 years old"
   ]
  },
  {
   "cell_type": "code",
   "execution_count": 18,
   "id": "a160cfae",
   "metadata": {},
   "outputs": [
    {
     "data": {
      "text/plain": [
       "Text(0, 0.5, 'Density')"
      ]
     },
     "execution_count": 18,
     "metadata": {},
     "output_type": "execute_result"
    },
    {
     "data": {
      "image/png": "[encoded data removed]",
      "text/plain": [
       "<Figure size 432x288 with 1 Axes>"
      ]
     },
     "metadata": {
      "needs_background": "light"
     },
     "output_type": "display_data"
    }
   ],
   "source": [
    "df_pivot = df.pivot(columns=\"Tumour_Stage\", values=\"Age\")\n",
    "df_pivot.plot.kde(legend=True)\n",
    "plt.title(\"Tumour stage density among ages\")\n",
    "plt.xlabel('Age')\n",
    "plt.ylabel('Density')\n"
   ]
  },
  {
   "cell_type": "markdown",
   "id": "ae082484",
   "metadata": {},
   "source": [
    "Interpretation : The three types of tumour stage have similar density through ages but tumour stage III has a significant decrease after +/- 55 years old  , meaning that life expectancy is lower as if we compare it with tumour stage I  we can see how the graph keeps similar density values among a wider age range."
   ]
  },
  {
   "cell_type": "code",
   "execution_count": 19,
   "id": "4bd5b68c",
   "metadata": {},
   "outputs": [
    {
     "data": {
      "image/png": "[encoded data removed]",
      "text/plain": [
       "<Figure size 432x288 with 1 Axes>"
      ]
     },
     "metadata": {
      "needs_background": "light"
     },
     "output_type": "display_data"
    }
   ],
   "source": [
    "avg_balance_marital_personal = df.groupby(by=[\"Histology\", \"Gender\"])[\"Age\"].mean()\n",
    "avg_balance_marital_personal.unstack().plot.bar(stacked=False)\n",
    "\n",
    "plt.title(\" Histology types comparison among females and males \")\n",
    "plt.ylabel('Age')\n",
    "plt.show()"
   ]
  },
  {
   "cell_type": "markdown",
   "id": "99c88426",
   "metadata": {},
   "source": [
    "Interpretation : Infiltrating Ductal Carcinoma is the only type where males are older compared to females on the diferent histology types"
   ]
  }
 ],
 "metadata": {
  "celltoolbar": "Slideshow",
  "kernelspec": {
   "display_name": "Python 3 (ipykernel)",
   "language": "python",
   "name": "python3"
  },
  "language_info": {
   "codemirror_mode": {
    "name": "ipython",
    "version": 3
   },
   "file_extension": ".py",
   "mimetype": "text/x-python",
   "name": "python",
   "nbconvert_exporter": "python",
   "pygments_lexer": "ipython3",
   "version": "3.9.12"
  }
 },
 "nbformat": 4,
 "nbformat_minor": 5
}
