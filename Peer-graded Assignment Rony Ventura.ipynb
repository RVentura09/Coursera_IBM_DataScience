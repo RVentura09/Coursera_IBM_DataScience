{
 "cells": [
  {
   "cell_type": "markdown",
   "id": "f7950a31",
   "metadata": {},
   "source": [
    "Peer-graded Assignment: Create and Share Your Jupyter Notebook"
   ]
  },
  {
   "cell_type": "markdown",
   "id": "61612199",
   "metadata": {},
   "source": [
    "# My Jupyter Notebook on IBM Watson Studio\"\n",
    "\n"
   ]
  },
  {
   "cell_type": "markdown",
   "id": "d25185ad",
   "metadata": {},
   "source": [
    "**Rony Ventura**<br>\n",
    "Health Informatic Student\n",
    "\n"
   ]
  },
  {
   "cell_type": "markdown",
   "id": "acb3a75a",
   "metadata": {},
   "source": [
    "*I am interested in data science because it can help healthcare industry to achieve lower mortality rates and increase the life expectancy of the patients.*\n"
   ]
  },
  {
   "cell_type": "markdown",
   "id": "882e3dc0",
   "metadata": {},
   "source": [
    "### The code will output the message \"Hello world\" and add two numbers \n"
   ]
  },
  {
   "cell_type": "code",
   "execution_count": 4,
   "id": "457321fa",
   "metadata": {},
   "outputs": [
    {
     "name": "stdout",
     "output_type": "stream",
     "text": [
      "Hello world 4\n"
     ]
    }
   ],
   "source": [
    "print(\"Hello world\", 1+3 )"
   ]
  },
  {
   "cell_type": "markdown",
   "id": "d7264da1",
   "metadata": {},
   "source": [
    "|   Name   |   Size   |   Color   |   Total   |\n",
    "| --- | --- | --- | --- |\n",
    "|   Juan   |   13     |   Blue    |   34      |\n",
    "\n",
    "\n",
    "* One\n",
    "* fifty\n",
    "* Dua\n",
    "* Cents\n",
    "\n",
    "1. cents\n",
    "2. Dua\n",
    "3. Fifty\n",
    "4. One\n"
   ]
  },
  {
   "cell_type": "code",
   "execution_count": null,
   "id": "288eb9a2",
   "metadata": {},
   "outputs": [],
   "source": []
  }
 ],
 "metadata": {
  "kernelspec": {
   "display_name": "Python 3 (ipykernel)",
   "language": "python",
   "name": "python3"
  },
  "language_info": {
   "codemirror_mode": {
    "name": "ipython",
    "version": 3
   },
   "file_extension": ".py",
   "mimetype": "text/x-python",
   "name": "python",
   "nbconvert_exporter": "python",
   "pygments_lexer": "ipython3",
   "version": "3.9.12"
  }
 },
 "nbformat": 4,
 "nbformat_minor": 5
}
