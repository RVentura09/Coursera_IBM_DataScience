{
 "cells": [
  {
   "cell_type": "code",
   "execution_count": 1,
   "id": "3af0e664",
   "metadata": {},
   "outputs": [],
   "source": [
    "# Import required libraries\n",
    "import pandas as pd\n",
    "import plotly.express as px\n",
    "import dash\n",
    "from dash import html\n",
    "from dash import dcc\n",
    "#importante agregar estas \n",
    "from dash.dependencies import Input, Output, State \n",
    "from jupyter_dash import JupyterDash \n",
    "import plotly.graph_objects as go \n",
    "import plotly.express as px \n",
    "from dash import no_update"
   ]
  },
  {
   "cell_type": "code",
   "execution_count": 2,
   "id": "ac076692",
   "metadata": {},
   "outputs": [],
   "source": [
    "# Read the airline data into pandas dataframe\n",
    "airline_data =  pd.read_csv('airline_data.csv', \n",
    "                            encoding = \"ISO-8859-1\",\n",
    "                            dtype={'Div1Airport': str, 'Div1TailNum': str, \n",
    "                                   'Div2Airport': str, 'Div2TailNum': str})\n",
    "\n"
   ]
  },
  {
   "cell_type": "code",
   "execution_count": 3,
   "id": "4e22c828",
   "metadata": {},
   "outputs": [
    {
     "data": {
      "text/plain": [
       "'Callback Function\\n\\nFunction that returns fugures using the provided input year.\\n\\nArguments:\\n\\n    entered_year: Input year provided by the user.\\n    \\nReturns:\\n\\n    List of figures computed using the provided helper function `compute_info`.\\n'"
      ]
     },
     "execution_count": 3,
     "metadata": {},
     "output_type": "execute_result"
    }
   ],
   "source": [
    "# Create a dash application\n",
    "app = JupyterDash(__name__) \n",
    "# Build dash app layout\n",
    "app.layout = html.Div(children=[ html.H1('Flight Delay Time Statistics', \n",
    "                                style={'textAlign': 'center', 'color': '#503D36',\n",
    "                                'font-size': 30}),\n",
    "                                html.Div([\"Input Year: \", dcc.Input(id='input-year', value='2010', \n",
    "                                type='number', style={'height':'35px', 'font-size': 30}),], \n",
    "                                style={'font-size': 30}),\n",
    "                                html.Br(),\n",
    "                                html.Br(), \n",
    "                                # Segment 1\n",
    "                                html.Div([\n",
    "                                        html.Div(dcc.Graph(id='carrier-plot')),\n",
    "                                        html.Div(dcc.Graph(id='weather-plot'))\n",
    "                                ], style={'display': 'flex'}),\n",
    "                                # Segment 2\n",
    "                                html.Div([\n",
    "                                        html.Div(dcc.Graph(id='nas-plot')),\n",
    "                                        html.Div(dcc.Graph(id='security-plot'))\n",
    "                                ], style={'display': 'flex'}),\n",
    "                                # Segment 3\n",
    "                                html.Div(dcc.Graph(id='late-plot'), style={'width':'65%'})\n",
    "                                ])\n",
    "\n",
    "\"\"\" Compute_info function description\n",
    "\n",
    "This function takes in airline data and selected year as an input and performs computation for creating charts and plots.\n",
    "\n",
    "Arguments:\n",
    "    airline_data: Input airline data.\n",
    "    entered_year: Input year for which computation needs to be performed.\n",
    "    \n",
    "Returns:\n",
    "    Computed average dataframes for carrier delay, weather delay, NAS delay, security delay, and late aircraft delay.\n",
    "\n",
    "\"\"\"\n",
    "def compute_info(airline_data, entered_year):\n",
    "    # Select data\n",
    "    df =  airline_data[airline_data['Year']==int(entered_year)]\n",
    "    # Compute delay averages\n",
    "    avg_car = df.groupby(['Month','Reporting_Airline'])['CarrierDelay'].mean().reset_index()\n",
    "    avg_weather = df.groupby(['Month','Reporting_Airline'])['WeatherDelay'].mean().reset_index()\n",
    "    avg_NAS = df.groupby(['Month','Reporting_Airline'])['NASDelay'].mean().reset_index()\n",
    "    avg_sec = df.groupby(['Month','Reporting_Airline'])['SecurityDelay'].mean().reset_index()\n",
    "    avg_late = df.groupby(['Month','Reporting_Airline'])['LateAircraftDelay'].mean().reset_index()\n",
    "    return avg_car, avg_weather, avg_NAS, avg_sec, avg_late\n",
    "\n",
    "\"\"\"Callback Function\n",
    "\n",
    "Function that returns fugures using the provided input year.\n",
    "\n",
    "Arguments:\n",
    "\n",
    "    entered_year: Input year provided by the user.\n",
    "    \n",
    "Returns:\n",
    "\n",
    "    List of figures computed using the provided helper function `compute_info`.\n",
    "\"\"\"\n",
    "\n"
   ]
  },
  {
   "cell_type": "code",
   "execution_count": 4,
   "id": "e56596ea",
   "metadata": {},
   "outputs": [],
   "source": [
    "# Callback decorator\n",
    "@app.callback( [\n",
    "               Output(component_id='carrier-plot', component_property='figure'),\n",
    "               Output(component_id='weather-plot', component_property='figure'),\n",
    "               Output(component_id='nas-plot', component_property='figure'),\n",
    "               Output(component_id='security-plot', component_property='figure'),\n",
    "               Output(component_id='late-plot', component_property='figure')\n",
    "               ],\n",
    "               Input(component_id='input-year', component_property='value'))\n",
    "# Computation to callback function and return graph\n",
    "def get_graph(entered_year):\n",
    "    \n",
    "    # Compute required information for creating graph from the data\n",
    "    avg_car, avg_weather, avg_NAS, avg_sec, avg_late = compute_info(airline_data, entered_year)\n",
    "            \n",
    "    # Line plot for carrier delay\n",
    "    carrier_fig = px.line(avg_car, x='Month', y='CarrierDelay', color='Reporting_Airline', title='Average carrrier delay time (minutes) by airline')\n",
    "    # Line plot for weather delay\n",
    "    weather_fig = px.line(avg_weather, x='Month', y='WeatherDelay', color='Reporting_Airline', title='Average weather delay time (minutes) by airline')\n",
    "    # Line plot for nas delay\n",
    "    nas_fig = px.line(avg_NAS, x='Month', y='NASDelay', color='Reporting_Airline', title='Average NAS delay time (minutes) by airline')\n",
    "    # Line plot for security delay\n",
    "    sec_fig = px.line(avg_sec, x='Month', y='SecurityDelay', color='Reporting_Airline', title='Average security delay time (minutes) by airline')\n",
    "    # Line plot for late aircraft delay\n",
    "    late_fig = px.line(avg_late, x='Month', y='LateAircraftDelay', color='Reporting_Airline', title='Average late aircraft delay time (minutes) by airline')\n",
    "            \n",
    "    return[carrier_fig, weather_fig, nas_fig, sec_fig, late_fig]\n",
    "\n",
    "\n"
   ]
  },
  {
   "cell_type": "code",
   "execution_count": 5,
   "id": "6f4387c6",
   "metadata": {},
   "outputs": [],
   "source": [
    "if __name__ == '__main__':\n",
    "    app.run_server(mode='jupyterlab', port = 8050, dev_tools_ui=True, debug=True,dev_tools_hot_reload =True, threaded=True)"
   ]
  },
  {
   "cell_type": "markdown",
   "id": "584ae595",
   "metadata": {},
   "source": [
    "http://localhost:8050"
   ]
  }
 ],
 "metadata": {
  "kernelspec": {
   "display_name": "Python 3 (ipykernel)",
   "language": "python",
   "name": "python3"
  },
  "language_info": {
   "codemirror_mode": {
    "name": "ipython",
    "version": 3
   },
   "file_extension": ".py",
   "mimetype": "text/x-python",
   "name": "python",
   "nbconvert_exporter": "python",
   "pygments_lexer": "ipython3",
   "version": "3.9.12"
  }
 },
 "nbformat": 4,
 "nbformat_minor": 5
}
