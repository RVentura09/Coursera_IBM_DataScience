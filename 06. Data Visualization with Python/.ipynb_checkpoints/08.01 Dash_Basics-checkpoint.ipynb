{
 "cells": [
  {
   "cell_type": "code",
   "execution_count": 1,
   "id": "d2ed26e4",
   "metadata": {},
   "outputs": [
    {
     "name": "stdout",
     "output_type": "stream",
     "text": [
      "Requirement already satisfied: dash in c:\\users\\rony_\\anaconda3\\lib\\site-packages (2.6.0)\n",
      "Requirement already satisfied: Flask>=1.0.4 in c:\\users\\rony_\\anaconda3\\lib\\site-packages (from dash) (2.0.2)\n",
      "Requirement already satisfied: dash-table==5.0.0 in c:\\users\\rony_\\anaconda3\\lib\\site-packages (from dash) (5.0.0)\n",
      "Requirement already satisfied: dash-html-components==2.0.0 in c:\\users\\rony_\\anaconda3\\lib\\site-packages (from dash) (2.0.0)\n",
      "Requirement already satisfied: flask-compress in c:\\users\\rony_\\anaconda3\\lib\\site-packages (from dash) (1.12)\n",
      "Requirement already satisfied: dash-core-components==2.0.0 in c:\\users\\rony_\\anaconda3\\lib\\site-packages (from dash) (2.0.0)\n",
      "Requirement already satisfied: plotly>=5.0.0 in c:\\users\\rony_\\anaconda3\\lib\\site-packages (from dash) (5.9.0)\n",
      "Requirement already satisfied: itsdangerous>=2.0 in c:\\users\\rony_\\anaconda3\\lib\\site-packages (from Flask>=1.0.4->dash) (2.0.1)\n",
      "Requirement already satisfied: click>=7.1.2 in c:\\users\\rony_\\anaconda3\\lib\\site-packages (from Flask>=1.0.4->dash) (8.0.3)\n",
      "Requirement already satisfied: Jinja2>=3.0 in c:\\users\\rony_\\anaconda3\\lib\\site-packages (from Flask>=1.0.4->dash) (3.0.2)\n",
      "Requirement already satisfied: Werkzeug>=2.0 in c:\\users\\rony_\\anaconda3\\lib\\site-packages (from Flask>=1.0.4->dash) (2.0.2)\n",
      "Requirement already satisfied: colorama in c:\\users\\rony_\\anaconda3\\lib\\site-packages (from click>=7.1.2->Flask>=1.0.4->dash) (0.4.4)\n",
      "Requirement already satisfied: MarkupSafe>=2.0 in c:\\users\\rony_\\anaconda3\\lib\\site-packages (from Jinja2>=3.0->Flask>=1.0.4->dash) (2.0.1)\n",
      "Requirement already satisfied: tenacity>=6.2.0 in c:\\users\\rony_\\anaconda3\\lib\\site-packages (from plotly>=5.0.0->dash) (8.0.1)\n",
      "Requirement already satisfied: brotli in c:\\users\\rony_\\anaconda3\\lib\\site-packages (from flask-compress->dash) (1.0.9)\n"
     ]
    },
    {
     "name": "stderr",
     "output_type": "stream",
     "text": [
      "ERROR: Could not find a version that satisfies the requirement dash==1.19.0!\n",
      "ERROR: No matching distribution found for dash==1.19.0!\n"
     ]
    },
    {
     "name": "stdout",
     "output_type": "stream",
     "text": [
      "Requirement already satisfied: jupyter_dash in c:\\users\\rony_\\anaconda3\\lib\\site-packages (0.4.2)\n",
      "Requirement already satisfied: flask in c:\\users\\rony_\\anaconda3\\lib\\site-packages (from jupyter_dash) (2.0.2)\n",
      "Requirement already satisfied: ipykernel in c:\\users\\rony_\\anaconda3\\lib\\site-packages (from jupyter_dash) (6.4.1)\n",
      "Requirement already satisfied: requests in c:\\users\\rony_\\anaconda3\\lib\\site-packages (from jupyter_dash) (2.26.0)\n",
      "Requirement already satisfied: retrying in c:\\users\\rony_\\anaconda3\\lib\\site-packages (from jupyter_dash) (1.3.3)\n",
      "Requirement already satisfied: ansi2html in c:\\users\\rony_\\anaconda3\\lib\\site-packages (from jupyter_dash) (1.8.0)\n",
      "Requirement already satisfied: nest-asyncio in c:\\users\\rony_\\anaconda3\\lib\\site-packages (from jupyter_dash) (1.5.1)\n",
      "Requirement already satisfied: dash in c:\\users\\rony_\\anaconda3\\lib\\site-packages (from jupyter_dash) (2.6.0)\n",
      "Requirement already satisfied: ipython in c:\\users\\rony_\\anaconda3\\lib\\site-packages (from jupyter_dash) (7.29.0)\n",
      "Requirement already satisfied: flask-compress in c:\\users\\rony_\\anaconda3\\lib\\site-packages (from dash->jupyter_dash) (1.12)\n",
      "Requirement already satisfied: dash-core-components==2.0.0 in c:\\users\\rony_\\anaconda3\\lib\\site-packages (from dash->jupyter_dash) (2.0.0)\n",
      "Requirement already satisfied: dash-table==5.0.0 in c:\\users\\rony_\\anaconda3\\lib\\site-packages (from dash->jupyter_dash) (5.0.0)\n",
      "Requirement already satisfied: plotly>=5.0.0 in c:\\users\\rony_\\anaconda3\\lib\\site-packages (from dash->jupyter_dash) (5.9.0)\n",
      "Requirement already satisfied: dash-html-components==2.0.0 in c:\\users\\rony_\\anaconda3\\lib\\site-packages (from dash->jupyter_dash) (2.0.0)\n",
      "Requirement already satisfied: Jinja2>=3.0 in c:\\users\\rony_\\anaconda3\\lib\\site-packages (from flask->jupyter_dash) (3.0.2)\n",
      "Requirement already satisfied: itsdangerous>=2.0 in c:\\users\\rony_\\anaconda3\\lib\\site-packages (from flask->jupyter_dash) (2.0.1)\n",
      "Requirement already satisfied: click>=7.1.2 in c:\\users\\rony_\\anaconda3\\lib\\site-packages (from flask->jupyter_dash) (8.0.3)\n",
      "Requirement already satisfied: Werkzeug>=2.0 in c:\\users\\rony_\\anaconda3\\lib\\site-packages (from flask->jupyter_dash) (2.0.2)\n",
      "Requirement already satisfied: colorama in c:\\users\\rony_\\anaconda3\\lib\\site-packages (from click>=7.1.2->flask->jupyter_dash) (0.4.4)\n",
      "Requirement already satisfied: MarkupSafe>=2.0 in c:\\users\\rony_\\anaconda3\\lib\\site-packages (from Jinja2>=3.0->flask->jupyter_dash) (2.0.1)\n",
      "Requirement already satisfied: tenacity>=6.2.0 in c:\\users\\rony_\\anaconda3\\lib\\site-packages (from plotly>=5.0.0->dash->jupyter_dash) (8.0.1)\n",
      "Requirement already satisfied: brotli in c:\\users\\rony_\\anaconda3\\lib\\site-packages (from flask-compress->dash->jupyter_dash) (1.0.9)\n",
      "Requirement already satisfied: debugpy<2.0,>=1.0.0 in c:\\users\\rony_\\anaconda3\\lib\\site-packages (from ipykernel->jupyter_dash) (1.4.1)\n",
      "Requirement already satisfied: tornado<7.0,>=4.2 in c:\\users\\rony_\\anaconda3\\lib\\site-packages (from ipykernel->jupyter_dash) (6.1)\n",
      "Requirement already satisfied: traitlets<6.0,>=4.1.0 in c:\\users\\rony_\\anaconda3\\lib\\site-packages (from ipykernel->jupyter_dash) (5.1.0)\n",
      "Requirement already satisfied: jupyter-client<8.0 in c:\\users\\rony_\\anaconda3\\lib\\site-packages (from ipykernel->jupyter_dash) (7.0.1)\n",
      "Requirement already satisfied: ipython-genutils in c:\\users\\rony_\\anaconda3\\lib\\site-packages (from ipykernel->jupyter_dash) (0.2.0)\n",
      "Requirement already satisfied: matplotlib-inline<0.2.0,>=0.1.0 in c:\\users\\rony_\\anaconda3\\lib\\site-packages (from ipykernel->jupyter_dash) (0.1.2)\n",
      "Requirement already satisfied: setuptools>=18.5 in c:\\users\\rony_\\anaconda3\\lib\\site-packages (from ipython->jupyter_dash) (58.0.4)\n",
      "Requirement already satisfied: pygments in c:\\users\\rony_\\anaconda3\\lib\\site-packages (from ipython->jupyter_dash) (2.10.0)\n",
      "Requirement already satisfied: decorator in c:\\users\\rony_\\anaconda3\\lib\\site-packages (from ipython->jupyter_dash) (5.1.0)\n",
      "Requirement already satisfied: prompt-toolkit!=3.0.0,!=3.0.1,<3.1.0,>=2.0.0 in c:\\users\\rony_\\anaconda3\\lib\\site-packages (from ipython->jupyter_dash) (3.0.20)\n",
      "Requirement already satisfied: backcall in c:\\users\\rony_\\anaconda3\\lib\\site-packages (from ipython->jupyter_dash) (0.2.0)\n",
      "Requirement already satisfied: jedi>=0.16 in c:\\users\\rony_\\anaconda3\\lib\\site-packages (from ipython->jupyter_dash) (0.17.2)\n",
      "Requirement already satisfied: pickleshare in c:\\users\\rony_\\anaconda3\\lib\\site-packages (from ipython->jupyter_dash) (0.7.5)\n",
      "Requirement already satisfied: parso<0.8.0,>=0.7.0 in c:\\users\\rony_\\anaconda3\\lib\\site-packages (from jedi>=0.16->ipython->jupyter_dash) (0.7.0)\n",
      "Requirement already satisfied: entrypoints in c:\\users\\rony_\\anaconda3\\lib\\site-packages (from jupyter-client<8.0->ipykernel->jupyter_dash) (0.3)\n",
      "Requirement already satisfied: python-dateutil>=2.1 in c:\\users\\rony_\\anaconda3\\lib\\site-packages (from jupyter-client<8.0->ipykernel->jupyter_dash) (2.8.2)\n",
      "Requirement already satisfied: jupyter-core>=4.6.0 in c:\\users\\rony_\\anaconda3\\lib\\site-packages (from jupyter-client<8.0->ipykernel->jupyter_dash) (4.9.1)\n",
      "Requirement already satisfied: pyzmq>=13 in c:\\users\\rony_\\anaconda3\\lib\\site-packages (from jupyter-client<8.0->ipykernel->jupyter_dash) (22.2.1)\n",
      "Requirement already satisfied: pywin32>=1.0 in c:\\users\\rony_\\anaconda3\\lib\\site-packages (from jupyter-core>=4.6.0->jupyter-client<8.0->ipykernel->jupyter_dash) (228)\n",
      "Requirement already satisfied: wcwidth in c:\\users\\rony_\\anaconda3\\lib\\site-packages (from prompt-toolkit!=3.0.0,!=3.0.1,<3.1.0,>=2.0.0->ipython->jupyter_dash) (0.2.5)\n",
      "Requirement already satisfied: six>=1.5 in c:\\users\\rony_\\anaconda3\\lib\\site-packages (from python-dateutil>=2.1->jupyter-client<8.0->ipykernel->jupyter_dash) (1.16.0)\n",
      "Requirement already satisfied: certifi>=2017.4.17 in c:\\users\\rony_\\anaconda3\\lib\\site-packages (from requests->jupyter_dash) (2021.10.8)\n",
      "Requirement already satisfied: urllib3<1.27,>=1.21.1 in c:\\users\\rony_\\anaconda3\\lib\\site-packages (from requests->jupyter_dash) (1.26.7)\n",
      "Requirement already satisfied: charset-normalizer~=2.0.0 in c:\\users\\rony_\\anaconda3\\lib\\site-packages (from requests->jupyter_dash) (2.0.4)\n",
      "Requirement already satisfied: idna<4,>=2.5 in c:\\users\\rony_\\anaconda3\\lib\\site-packages (from requests->jupyter_dash) (3.2)\n",
      "Requirement already satisfied: plotly in c:\\users\\rony_\\anaconda3\\lib\\site-packages (5.9.0)\n",
      "Requirement already satisfied: tenacity>=6.2.0 in c:\\users\\rony_\\anaconda3\\lib\\site-packages (from plotly) (8.0.1)\n"
     ]
    }
   ],
   "source": [
    "'''!pip install dash\n",
    "\n",
    "!pip install dash==1.19.0!\n",
    "\n",
    "!pip install jupyter_dash\n",
    "\n",
    "!pip install --upgrade plotly\n",
    "'''"
   ]
  },
  {
   "cell_type": "code",
   "execution_count": 7,
   "id": "0901eb6c",
   "metadata": {},
   "outputs": [],
   "source": [
    "# Import required packages\n",
    "\n",
    "import pandas as pd\n",
    "import plotly.express as px\n",
    "import dash\n",
    "from dash import html\n",
    "from dash import dcc\n",
    "#importante agregar estas \n",
    "from dash.dependencies import Input, Output, State \n",
    "from jupyter_dash import JupyterDash \n",
    "import plotly.graph_objects as go \n",
    "import plotly.express as px \n",
    "from dash import no_update\n"
   ]
  },
  {
   "cell_type": "code",
   "execution_count": 8,
   "id": "f11553f3",
   "metadata": {},
   "outputs": [],
   "source": [
    "# Read the airline data into pandas dataframe\n",
    "airline_data =  pd.read_csv('airline_data.csv', \n",
    "                            encoding = \"ISO-8859-1\",\n",
    "                            dtype={'Div1Airport': str, 'Div1TailNum': str, \n",
    "                                   'Div2Airport': str, 'Div2TailNum': str})"
   ]
  },
  {
   "cell_type": "code",
   "execution_count": 9,
   "id": "cd444f14",
   "metadata": {},
   "outputs": [],
   "source": [
    "# Randomly sample 500 data points. Setting the random state to be 42 so that we get same result.\n",
    "data = airline_data.sample(n=500, random_state=42)"
   ]
  },
  {
   "cell_type": "code",
   "execution_count": 10,
   "id": "43b72f12",
   "metadata": {},
   "outputs": [],
   "source": [
    "# Pie Chart Creation\n",
    "fig = px.pie(data, values='Flights', names='DistanceGroup', title='Distance group proportion by flights')\n"
   ]
  },
  {
   "cell_type": "code",
   "execution_count": 11,
   "id": "62828c7c",
   "metadata": {},
   "outputs": [],
   "source": [
    "# Create a dash application\n",
    "app = JupyterDash(__name__) "
   ]
  },
  {
   "cell_type": "code",
   "execution_count": 12,
   "id": "90ae0f1a",
   "metadata": {},
   "outputs": [],
   "source": [
    "# Get the layout of the application and adjust it.\n",
    "# Create an outer division using html.Div and add title to the dashboard using html.H1 component\n",
    "# Add description about the graph using HTML P (paragraph) component\n",
    "# Finally, add graph component.\n",
    "app.layout = html.Div(children=[html.H1('Airline Dashboard', style={'textAlign': 'center', 'color': '#503D36', 'font-size': 40}),\n",
    "                                html.P('Proportion of distance group (250 mile distance interval group) by flights.', style={'textAlign':'center', 'color': '#F57241'}),\n",
    "                                dcc.Graph(figure=fig),\n",
    "                                               \n",
    "                    ])"
   ]
  },
  {
   "cell_type": "code",
   "execution_count": 13,
   "id": "77d45e40",
   "metadata": {},
   "outputs": [],
   "source": [
    "# Run the application                   \n",
    "if __name__ == '__main__':\n",
    "    app.run_server(mode='jupyterlab', port = 8090, dev_tools_ui=True, debug=True,dev_tools_hot_reload =True, threaded=True)"
   ]
  },
  {
   "cell_type": "markdown",
   "id": "c4ead439",
   "metadata": {},
   "source": [
    "http://localhost:8090"
   ]
  }
 ],
 "metadata": {
  "kernelspec": {
   "display_name": "Python 3 (ipykernel)",
   "language": "python",
   "name": "python3"
  },
  "language_info": {
   "codemirror_mode": {
    "name": "ipython",
    "version": 3
   },
   "file_extension": ".py",
   "mimetype": "text/x-python",
   "name": "python",
   "nbconvert_exporter": "python",
   "pygments_lexer": "ipython3",
   "version": "3.9.12"
  }
 },
 "nbformat": 4,
 "nbformat_minor": 5
}
