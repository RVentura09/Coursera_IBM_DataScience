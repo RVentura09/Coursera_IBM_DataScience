{
 "cells": [
  {
   "cell_type": "code",
   "execution_count": 1,
   "id": "5ae0d0e3",
   "metadata": {},
   "outputs": [
    {
     "data": {
      "text/plain": [
       "'!pip install dash\\n\\n!pip install dash==1.19.0!\\n\\n!pip install jupyter_dash\\n\\n!pip install --upgrade plotly\\n'"
      ]
     },
     "execution_count": 1,
     "metadata": {},
     "output_type": "execute_result"
    }
   ],
   "source": [
    "# si es la primera vez descomentar esta celda\n",
    "'''!pip install dash\n",
    "\n",
    "!pip install dash==1.19.0!\n",
    "\n",
    "!pip install jupyter_dash\n",
    "\n",
    "!pip install --upgrade plotly\n",
    "'''"
   ]
  },
  {
   "cell_type": "markdown",
   "id": "22e9ea1e",
   "metadata": {},
   "source": [
    "### Importar las librerias que se ocupan"
   ]
  },
  {
   "cell_type": "code",
   "execution_count": 2,
   "id": "4baaa2d1",
   "metadata": {},
   "outputs": [],
   "source": [
    "import pandas as pd\n",
    "import plotly.express as px\n",
    "import dash\n",
    "from dash import html\n",
    "from dash import dcc\n",
    "#importante agregar estas \n",
    "from dash.dependencies import Input, Output, State \n",
    "from jupyter_dash import JupyterDash \n",
    "import plotly.graph_objects as go \n",
    "import plotly.express as px \n",
    "from dash import no_update"
   ]
  },
  {
   "cell_type": "code",
   "execution_count": 3,
   "id": "1ee0e1ce",
   "metadata": {},
   "outputs": [],
   "source": [
    "# Import required libraries\n"
   ]
  },
  {
   "cell_type": "code",
   "execution_count": 4,
   "id": "0e24df03",
   "metadata": {},
   "outputs": [],
   "source": [
    "# Read the airline data into pandas dataframe\n",
    "airline_data =  pd.read_csv('airline_data.csv', \n",
    "                            encoding = \"ISO-8859-1\",\n",
    "                            dtype={'Div1Airport': str, 'Div1TailNum': str, \n",
    "                                   'Div2Airport': str, 'Div2TailNum': str})"
   ]
  },
  {
   "cell_type": "code",
   "execution_count": 5,
   "id": "7971a406",
   "metadata": {},
   "outputs": [],
   "source": [
    "# Create a dash application\n",
    "app = JupyterDash(__name__) \n",
    "                               \n",
    "app.layout = html.Div(children=[ html.H1('Airline Performance Dashboard', \n",
    "                                style={'textAlign': 'center', 'color': '#503D36',\n",
    "                                'font-size': 40}),\n",
    "                                html.Div([\"Input Year: \", dcc.Input(id='input-year', value='2010', \n",
    "                                type='number', style={'height':'50px', 'font-size': 35}),], \n",
    "                                style={'font-size': 40}),\n",
    "                                html.Br(),\n",
    "                                html.Br(),\n",
    "                                html.Div(dcc.Graph(id='line-plot')),\n",
    "                                ])"
   ]
  },
  {
   "cell_type": "code",
   "execution_count": 10,
   "id": "725f117f",
   "metadata": {},
   "outputs": [],
   "source": [
    "#el app callback y el def tienen que estar juntos\n",
    "# add callback decorator\n",
    "@app.callback(Output(component_id = 'line-plot', component_property = 'figure'),\n",
    "              Input(component_id = 'input-year', component_property = 'value'))\n",
    "# Add computation to callback function and return graph\n",
    "def get_graph(entered_year):\n",
    "    # Select 2019 data\n",
    "    df =  airline_data[airline_data['Year']==int(entered_year)]\n",
    "    \n",
    "    # Group the data by Month and compute average over arrival delay time.\n",
    "    line_data = df.groupby('Month')['ArrDelay'].mean().reset_index()\n",
    "\n",
    "    fig = go.Figure(data=go.Scatter(x=line_data['Month'], y=line_data['ArrDelay'], mode='lines', marker=dict(color='green')))\n",
    "    fig.update_layout(title='Month vs Average Flight Delay Time',  yaxis_title='ArrDelay', xaxis_title='Month')  \n",
    "    return fig\n",
    "\n"
   ]
  },
  {
   "cell_type": "code",
   "execution_count": 11,
   "id": "6a251e87",
   "metadata": {},
   "outputs": [],
   "source": [
    "# Run the application                   \n",
    "if __name__ == '__main__':\n",
    "    app.run_server(mode='jupyterlab', port = 8090, dev_tools_ui=True, debug=True,dev_tools_hot_reload =True, threaded=True)"
   ]
  },
  {
   "cell_type": "markdown",
   "id": "579296b4",
   "metadata": {},
   "source": [
    "http://localhost:8090"
   ]
  },
  {
   "cell_type": "code",
   "execution_count": null,
   "id": "8f83aff6",
   "metadata": {},
   "outputs": [],
   "source": []
  }
 ],
 "metadata": {
  "kernelspec": {
   "display_name": "Python 3 (ipykernel)",
   "language": "python",
   "name": "python3"
  },
  "language_info": {
   "codemirror_mode": {
    "name": "ipython",
    "version": 3
   },
   "file_extension": ".py",
   "mimetype": "text/x-python",
   "name": "python",
   "nbconvert_exporter": "python",
   "pygments_lexer": "ipython3",
   "version": "3.8.8"
  }
 },
 "nbformat": 4,
 "nbformat_minor": 5
}
