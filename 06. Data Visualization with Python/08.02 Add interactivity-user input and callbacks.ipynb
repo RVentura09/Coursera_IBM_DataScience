{
 "cells": [
  {
   "cell_type": "code",
   "execution_count": 1,
   "id": "5ae0d0e3",
   "metadata": {},
   "outputs": [
    {
     "name": "stdout",
     "output_type": "stream",
     "text": [
      "Collecting dash\n",
      "  Downloading dash-2.6.1-py3-none-any.whl (9.9 MB)\n",
      "     ---------------------------------------- 9.9/9.9 MB 5.7 MB/s eta 0:00:00\n",
      "Collecting dash-core-components==2.0.0\n",
      "  Downloading dash_core_components-2.0.0-py3-none-any.whl (3.8 kB)\n",
      "Requirement already satisfied: Flask>=1.0.4 in c:\\users\\ronyv\\anaconda3\\lib\\site-packages (from dash) (1.1.2)\n",
      "Requirement already satisfied: plotly>=5.0.0 in c:\\users\\ronyv\\anaconda3\\lib\\site-packages (from dash) (5.9.0)\n",
      "Collecting dash-table==5.0.0\n",
      "  Downloading dash_table-5.0.0-py3-none-any.whl (3.9 kB)\n",
      "Collecting dash-html-components==2.0.0\n",
      "  Downloading dash_html_components-2.0.0-py3-none-any.whl (4.1 kB)\n",
      "Collecting flask-compress\n",
      "  Downloading Flask_Compress-1.12-py3-none-any.whl (7.9 kB)\n",
      "Requirement already satisfied: Jinja2>=2.10.1 in c:\\users\\ronyv\\anaconda3\\lib\\site-packages (from Flask>=1.0.4->dash) (2.11.3)\n",
      "Requirement already satisfied: itsdangerous>=0.24 in c:\\users\\ronyv\\anaconda3\\lib\\site-packages (from Flask>=1.0.4->dash) (2.0.1)\n",
      "Requirement already satisfied: Werkzeug>=0.15 in c:\\users\\ronyv\\anaconda3\\lib\\site-packages (from Flask>=1.0.4->dash) (2.0.3)\n",
      "Requirement already satisfied: click>=5.1 in c:\\users\\ronyv\\anaconda3\\lib\\site-packages (from Flask>=1.0.4->dash) (8.0.4)\n",
      "Requirement already satisfied: tenacity>=6.2.0 in c:\\users\\ronyv\\anaconda3\\lib\\site-packages (from plotly>=5.0.0->dash) (8.0.1)\n",
      "Collecting brotli\n",
      "  Downloading Brotli-1.0.9-cp39-cp39-win_amd64.whl (383 kB)\n",
      "     -------------------------------------- 383.4/383.4 kB 2.4 MB/s eta 0:00:00\n",
      "Requirement already satisfied: colorama in c:\\users\\ronyv\\anaconda3\\lib\\site-packages (from click>=5.1->Flask>=1.0.4->dash) (0.4.5)\n",
      "Requirement already satisfied: MarkupSafe>=0.23 in c:\\users\\ronyv\\anaconda3\\lib\\site-packages (from Jinja2>=2.10.1->Flask>=1.0.4->dash) (2.0.1)\n",
      "Installing collected packages: dash-table, dash-html-components, dash-core-components, brotli, flask-compress, dash\n",
      "Successfully installed brotli-1.0.9 dash-2.6.1 dash-core-components-2.0.0 dash-html-components-2.0.0 dash-table-5.0.0 flask-compress-1.12\n"
     ]
    },
    {
     "name": "stderr",
     "output_type": "stream",
     "text": [
      "ERROR: Could not find a version that satisfies the requirement dash==1.19.0! (from versions: 0.17.4, 0.17.5, 0.17.7, 0.17.8rc1, 0.17.8rc2, 0.17.8rc3, 0.18.0, 0.18.1, 0.18.2, 0.18.3rc1, 0.18.3, 0.19.0, 0.20.0, 0.21.0, 0.21.1, 0.22.0rc1, 0.22.0rc2, 0.22.0, 0.23.1, 0.24.0, 0.24.1rc1, 0.24.1, 0.24.2, 0.25.0, 0.25.1, 0.26.0, 0.26.1rc1, 0.26.1rc2, 0.26.1rc3, 0.26.1, 0.26.2, 0.26.3, 0.26.4, 0.26.5, 0.26.6, 0.27.0rc1, 0.27.0rc2, 0.27.0rc3, 0.27.0rc4, 0.27.0rc5, 0.27.0rc6, 0.27.0rc7, 0.27.0rc8, 0.27.0rc9, 0.27.0, 0.28.0, 0.28.1, 0.28.2, 0.28.3, 0.28.4, 0.28.5, 0.28.6, 0.28.7, 0.29.0rc1, 0.29.0rc2, 0.29.0rc3, 0.29.0rc4, 0.29.0rc5, 0.29.0rc6, 0.29rc7, 0.29.0rc8, 0.29.0, 0.30.0rc1, 0.30.0rc2, 0.30.0rc3, 0.30.0rc4, 0.30.0rc5, 0.30.0, 0.31.0rc1, 0.31.0rc2, 0.31.0, 0.31.1, 0.32.0rc1, 0.32.0rc2, 0.32.0, 0.32.1, 0.32.2, 0.34.0, 0.35.0rc1, 0.35.0, 0.35.1, 0.35.2, 0.35.3, 0.36.0rc1, 0.36.0, 0.37.0rc1, 0.37.0rc2, 0.37.0, 0.38.0rc1, 0.38.0, 0.39.0, 0.40.0rc1, 0.40.0, 0.41.0, 0.42.0, 0.43.0rc1, 0.43.0rc2, 0.43.0rc3, 0.43.0, 1.0.0a1, 1.0.0, 1.0.1rc1, 1.0.1, 1.0.2, 1.1.0, 1.1.1, 1.2.0, 1.3.0, 1.3.1, 1.4.0, 1.4.1, 1.5.0, 1.5.1, 1.6.0, 1.6.1, 1.7.0, 1.8.0, 1.9.0, 1.9.1, 1.10.0, 1.11.0, 1.12.0, 1.13.0, 1.13.1, 1.13.2, 1.13.3, 1.13.4, 1.14.0, 1.15.0, 1.16.0, 1.16.1, 1.16.2, 1.16.3, 1.17.0, 1.18.0, 1.18.1, 1.19.0, 1.20.0, 1.21.0, 2.0.0rc1, 2.0.0rc2, 2.0.0rc3, 2.0.0, 2.1.0, 2.2.0, 2.3.0, 2.3.1, 2.4.0, 2.4.1, 2.5.0, 2.5.1, 2.6.0, 2.6.1)\n",
      "ERROR: No matching distribution found for dash==1.19.0!\n"
     ]
    },
    {
     "name": "stdout",
     "output_type": "stream",
     "text": [
      "Collecting jupyter_dash\n",
      "  Downloading jupyter_dash-0.4.2-py3-none-any.whl (23 kB)\n",
      "Requirement already satisfied: nest-asyncio in c:\\users\\ronyv\\anaconda3\\lib\\site-packages (from jupyter_dash) (1.5.5)\n",
      "Collecting retrying\n",
      "  Downloading retrying-1.3.3.tar.gz (10 kB)\n",
      "  Preparing metadata (setup.py): started\n",
      "  Preparing metadata (setup.py): finished with status 'done'\n",
      "Requirement already satisfied: ipython in c:\\users\\ronyv\\anaconda3\\lib\\site-packages (from jupyter_dash) (8.4.0)\n",
      "Requirement already satisfied: dash in c:\\users\\ronyv\\anaconda3\\lib\\site-packages (from jupyter_dash) (2.6.1)\n",
      "Requirement already satisfied: ipykernel in c:\\users\\ronyv\\anaconda3\\lib\\site-packages (from jupyter_dash) (6.9.1)\n",
      "Requirement already satisfied: requests in c:\\users\\ronyv\\anaconda3\\lib\\site-packages (from jupyter_dash) (2.28.1)\n",
      "Requirement already satisfied: flask in c:\\users\\ronyv\\anaconda3\\lib\\site-packages (from jupyter_dash) (1.1.2)\n",
      "Collecting ansi2html\n",
      "  Downloading ansi2html-1.8.0-py3-none-any.whl (16 kB)\n",
      "Requirement already satisfied: dash-table==5.0.0 in c:\\users\\ronyv\\anaconda3\\lib\\site-packages (from dash->jupyter_dash) (5.0.0)\n",
      "Requirement already satisfied: dash-core-components==2.0.0 in c:\\users\\ronyv\\anaconda3\\lib\\site-packages (from dash->jupyter_dash) (2.0.0)\n",
      "Requirement already satisfied: flask-compress in c:\\users\\ronyv\\anaconda3\\lib\\site-packages (from dash->jupyter_dash) (1.12)\n",
      "Requirement already satisfied: dash-html-components==2.0.0 in c:\\users\\ronyv\\anaconda3\\lib\\site-packages (from dash->jupyter_dash) (2.0.0)\n",
      "Requirement already satisfied: plotly>=5.0.0 in c:\\users\\ronyv\\anaconda3\\lib\\site-packages (from dash->jupyter_dash) (5.9.0)\n",
      "Requirement already satisfied: itsdangerous>=0.24 in c:\\users\\ronyv\\anaconda3\\lib\\site-packages (from flask->jupyter_dash) (2.0.1)\n",
      "Requirement already satisfied: click>=5.1 in c:\\users\\ronyv\\anaconda3\\lib\\site-packages (from flask->jupyter_dash) (8.0.4)\n",
      "Requirement already satisfied: Jinja2>=2.10.1 in c:\\users\\ronyv\\anaconda3\\lib\\site-packages (from flask->jupyter_dash) (2.11.3)\n",
      "Requirement already satisfied: Werkzeug>=0.15 in c:\\users\\ronyv\\anaconda3\\lib\\site-packages (from flask->jupyter_dash) (2.0.3)\n",
      "Requirement already satisfied: matplotlib-inline<0.2.0,>=0.1.0 in c:\\users\\ronyv\\anaconda3\\lib\\site-packages (from ipykernel->jupyter_dash) (0.1.2)\n",
      "Requirement already satisfied: jupyter-client<8.0 in c:\\users\\ronyv\\anaconda3\\lib\\site-packages (from ipykernel->jupyter_dash) (6.1.12)\n",
      "Requirement already satisfied: debugpy<2.0,>=1.0.0 in c:\\users\\ronyv\\anaconda3\\lib\\site-packages (from ipykernel->jupyter_dash) (1.5.1)\n",
      "Requirement already satisfied: traitlets<6.0,>=5.1.0 in c:\\users\\ronyv\\anaconda3\\lib\\site-packages (from ipykernel->jupyter_dash) (5.1.1)\n",
      "Requirement already satisfied: tornado<7.0,>=4.2 in c:\\users\\ronyv\\anaconda3\\lib\\site-packages (from ipykernel->jupyter_dash) (6.1)\n",
      "Requirement already satisfied: setuptools>=18.5 in c:\\users\\ronyv\\anaconda3\\lib\\site-packages (from ipython->jupyter_dash) (61.2.0)\n",
      "Requirement already satisfied: backcall in c:\\users\\ronyv\\anaconda3\\lib\\site-packages (from ipython->jupyter_dash) (0.2.0)\n",
      "Requirement already satisfied: pygments>=2.4.0 in c:\\users\\ronyv\\anaconda3\\lib\\site-packages (from ipython->jupyter_dash) (2.11.2)\n",
      "Requirement already satisfied: stack-data in c:\\users\\ronyv\\anaconda3\\lib\\site-packages (from ipython->jupyter_dash) (0.2.0)\n",
      "Requirement already satisfied: decorator in c:\\users\\ronyv\\anaconda3\\lib\\site-packages (from ipython->jupyter_dash) (5.1.1)\n",
      "Requirement already satisfied: prompt-toolkit!=3.0.0,!=3.0.1,<3.1.0,>=2.0.0 in c:\\users\\ronyv\\anaconda3\\lib\\site-packages (from ipython->jupyter_dash) (3.0.20)\n",
      "Requirement already satisfied: pickleshare in c:\\users\\ronyv\\anaconda3\\lib\\site-packages (from ipython->jupyter_dash) (0.7.5)\n",
      "Requirement already satisfied: jedi>=0.16 in c:\\users\\ronyv\\anaconda3\\lib\\site-packages (from ipython->jupyter_dash) (0.18.1)\n",
      "Requirement already satisfied: colorama in c:\\users\\ronyv\\anaconda3\\lib\\site-packages (from ipython->jupyter_dash) (0.4.5)\n",
      "Requirement already satisfied: charset-normalizer<3,>=2 in c:\\users\\ronyv\\anaconda3\\lib\\site-packages (from requests->jupyter_dash) (2.0.4)\n",
      "Requirement already satisfied: idna<4,>=2.5 in c:\\users\\ronyv\\anaconda3\\lib\\site-packages (from requests->jupyter_dash) (3.3)\n",
      "Requirement already satisfied: certifi>=2017.4.17 in c:\\users\\ronyv\\anaconda3\\lib\\site-packages (from requests->jupyter_dash) (2022.6.15)\n",
      "Requirement already satisfied: urllib3<1.27,>=1.21.1 in c:\\users\\ronyv\\anaconda3\\lib\\site-packages (from requests->jupyter_dash) (1.26.11)\n",
      "Requirement already satisfied: six>=1.7.0 in c:\\users\\ronyv\\anaconda3\\lib\\site-packages (from retrying->jupyter_dash) (1.16.0)\n",
      "Requirement already satisfied: parso<0.9.0,>=0.8.0 in c:\\users\\ronyv\\anaconda3\\lib\\site-packages (from jedi>=0.16->ipython->jupyter_dash) (0.8.3)\n",
      "Requirement already satisfied: MarkupSafe>=0.23 in c:\\users\\ronyv\\anaconda3\\lib\\site-packages (from Jinja2>=2.10.1->flask->jupyter_dash) (2.0.1)\n",
      "Requirement already satisfied: pyzmq>=13 in c:\\users\\ronyv\\anaconda3\\lib\\site-packages (from jupyter-client<8.0->ipykernel->jupyter_dash) (23.2.0)\n",
      "Requirement already satisfied: python-dateutil>=2.1 in c:\\users\\ronyv\\anaconda3\\lib\\site-packages (from jupyter-client<8.0->ipykernel->jupyter_dash) (2.8.2)\n",
      "Requirement already satisfied: jupyter-core>=4.6.0 in c:\\users\\ronyv\\anaconda3\\lib\\site-packages (from jupyter-client<8.0->ipykernel->jupyter_dash) (4.10.0)\n",
      "Requirement already satisfied: tenacity>=6.2.0 in c:\\users\\ronyv\\anaconda3\\lib\\site-packages (from plotly>=5.0.0->dash->jupyter_dash) (8.0.1)\n",
      "Requirement already satisfied: wcwidth in c:\\users\\ronyv\\anaconda3\\lib\\site-packages (from prompt-toolkit!=3.0.0,!=3.0.1,<3.1.0,>=2.0.0->ipython->jupyter_dash) (0.2.5)\n",
      "Requirement already satisfied: brotli in c:\\users\\ronyv\\anaconda3\\lib\\site-packages (from flask-compress->dash->jupyter_dash) (1.0.9)\n",
      "Requirement already satisfied: asttokens in c:\\users\\ronyv\\anaconda3\\lib\\site-packages (from stack-data->ipython->jupyter_dash) (2.0.5)\n",
      "Requirement already satisfied: executing in c:\\users\\ronyv\\anaconda3\\lib\\site-packages (from stack-data->ipython->jupyter_dash) (0.8.3)\n",
      "Requirement already satisfied: pure-eval in c:\\users\\ronyv\\anaconda3\\lib\\site-packages (from stack-data->ipython->jupyter_dash) (0.2.2)\n",
      "Requirement already satisfied: pywin32>=1.0 in c:\\users\\ronyv\\anaconda3\\lib\\site-packages (from jupyter-core>=4.6.0->jupyter-client<8.0->ipykernel->jupyter_dash) (302)\n",
      "Building wheels for collected packages: retrying\n",
      "  Building wheel for retrying (setup.py): started\n",
      "  Building wheel for retrying (setup.py): finished with status 'done'\n",
      "  Created wheel for retrying: filename=retrying-1.3.3-py3-none-any.whl size=11447 sha256=3369c46fa0f0235ef5b79b1e6daef0c64c40acb2891ab66855d4c54806c99a0f\n",
      "  Stored in directory: c:\\users\\ronyv\\appdata\\local\\pip\\cache\\wheels\\ce\\18\\7f\\e9527e3e66db1456194ac7f61eb3211068c409edceecff2d31\n",
      "Successfully built retrying\n",
      "Installing collected packages: retrying, ansi2html, jupyter_dash\n",
      "Successfully installed ansi2html-1.8.0 jupyter_dash-0.4.2 retrying-1.3.3\n",
      "Requirement already satisfied: plotly in c:\\users\\ronyv\\anaconda3\\lib\\site-packages (5.9.0)\n",
      "Requirement already satisfied: tenacity>=6.2.0 in c:\\users\\ronyv\\anaconda3\\lib\\site-packages (from plotly) (8.0.1)\n"
     ]
    }
   ],
   "source": [
    "# si es la primera vez descomentar esta celda\n",
    "!pip install dash\n",
    "\n",
    "!pip install dash==1.19.0!\n",
    "\n",
    "!pip install jupyter_dash\n",
    "\n",
    "!pip install --upgrade plotly\n"
   ]
  },
  {
   "cell_type": "markdown",
   "id": "22e9ea1e",
   "metadata": {},
   "source": [
    "### Importar las librerias que se ocupan"
   ]
  },
  {
   "cell_type": "code",
   "execution_count": 2,
   "id": "4baaa2d1",
   "metadata": {},
   "outputs": [],
   "source": [
    "import pandas as pd\n",
    "import plotly.express as px\n",
    "import dash\n",
    "from dash import html\n",
    "from dash import dcc\n",
    "#importante agregar estas \n",
    "from dash.dependencies import Input, Output, State \n",
    "from jupyter_dash import JupyterDash \n",
    "import plotly.graph_objects as go \n",
    "import plotly.express as px \n",
    "from dash import no_update"
   ]
  },
  {
   "cell_type": "code",
   "execution_count": 3,
   "id": "1ee0e1ce",
   "metadata": {},
   "outputs": [],
   "source": [
    "# Import required libraries\n"
   ]
  },
  {
   "cell_type": "code",
   "execution_count": 4,
   "id": "0e24df03",
   "metadata": {},
   "outputs": [],
   "source": [
    "# Read the airline data into pandas dataframe\n",
    "airline_data =  pd.read_csv('airline_data.csv', \n",
    "                            encoding = \"ISO-8859-1\",\n",
    "                            dtype={'Div1Airport': str, 'Div1TailNum': str, \n",
    "                                   'Div2Airport': str, 'Div2TailNum': str})"
   ]
  },
  {
   "cell_type": "code",
   "execution_count": 5,
   "id": "7971a406",
   "metadata": {},
   "outputs": [],
   "source": [
    "# Create a dash application\n",
    "app = JupyterDash(__name__) \n",
    "                               \n",
    "app.layout = html.Div(children=[ html.H1('Airline Performance Dashboard', \n",
    "                                style={'textAlign': 'center', 'color': '#503D36',\n",
    "                                'font-size': 40}),\n",
    "                                html.Div([\"Input Year: \", dcc.Input(id='input-year', value='2010', \n",
    "                                type='number', style={'height':'50px', 'font-size': 35}),], \n",
    "                                style={'font-size': 40}),\n",
    "                                html.Br(),\n",
    "                                html.Br(),\n",
    "                                html.Div(dcc.Graph(id='line-plot')),\n",
    "                                ])"
   ]
  },
  {
   "cell_type": "code",
   "execution_count": 6,
   "id": "725f117f",
   "metadata": {},
   "outputs": [],
   "source": [
    "#el app callback y el def tienen que estar juntos\n",
    "# add callback decorator\n",
    "@app.callback(Output(component_id = 'line-plot', component_property = 'figure'),\n",
    "              Input(component_id = 'input-year', component_property = 'value'))\n",
    "# Add computation to callback function and return graph\n",
    "def get_graph(entered_year):\n",
    "    # Select 2019 data\n",
    "    df =  airline_data[airline_data['Year']==int(entered_year)]\n",
    "    \n",
    "    # Group the data by Month and compute average over arrival delay time.\n",
    "    line_data = df.groupby('Month')['ArrDelay'].mean().reset_index()\n",
    "\n",
    "    fig = go.Figure(data=go.Scatter(x=line_data['Month'], y=line_data['ArrDelay'], mode='lines', marker=dict(color='green')))\n",
    "    fig.update_layout(title='Month vs Average Flight Delay Time',  yaxis_title='ArrDelay', xaxis_title='Month')  \n",
    "    return fig\n",
    "\n"
   ]
  },
  {
   "cell_type": "code",
   "execution_count": 7,
   "id": "6a251e87",
   "metadata": {},
   "outputs": [],
   "source": [
    "# Run the application                   \n",
    "if __name__ == '__main__':\n",
    "    app.run_server(mode='jupyterlab', port = 8090, dev_tools_ui=True, debug=True,dev_tools_hot_reload =True, threaded=True)"
   ]
  },
  {
   "cell_type": "markdown",
   "id": "579296b4",
   "metadata": {},
   "source": [
    "http://localhost:8090"
   ]
  },
  {
   "cell_type": "code",
   "execution_count": null,
   "id": "8f83aff6",
   "metadata": {},
   "outputs": [],
   "source": []
  }
 ],
 "metadata": {
  "kernelspec": {
   "display_name": "Python 3 (ipykernel)",
   "language": "python",
   "name": "python3"
  },
  "language_info": {
   "codemirror_mode": {
    "name": "ipython",
    "version": 3
   },
   "file_extension": ".py",
   "mimetype": "text/x-python",
   "name": "python",
   "nbconvert_exporter": "python",
   "pygments_lexer": "ipython3",
   "version": "3.9.12"
  }
 },
 "nbformat": 4,
 "nbformat_minor": 5
}
