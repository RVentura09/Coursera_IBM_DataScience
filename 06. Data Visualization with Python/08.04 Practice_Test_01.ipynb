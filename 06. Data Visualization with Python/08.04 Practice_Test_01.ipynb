{
 "cells": [
  {
   "cell_type": "code",
   "execution_count": 1,
   "id": "b0eb532b",
   "metadata": {},
   "outputs": [],
   "source": [
    "# Import required libraries\n",
    "import pandas as pd\n",
    "import plotly.express as px\n",
    "import dash\n",
    "from dash import html\n",
    "from dash import dcc\n",
    "#importante agregar estas \n",
    "from dash.dependencies import Input, Output, State \n",
    "from jupyter_dash import JupyterDash \n",
    "import plotly.graph_objects as go \n",
    "import plotly.express as px \n",
    "from dash import no_update"
   ]
  },
  {
   "cell_type": "code",
   "execution_count": 3,
   "id": "c4623971",
   "metadata": {},
   "outputs": [],
   "source": [
    "# Add Dataframe\n",
    "df = pd.DataFrame({\n",
    "    \"Fruit\": [\"Apples\", \"Oranges\", \"Bananas\", \"Apples\", \"Oranges\", \"Bananas\"],\n",
    "    \"Amount\": [4, 1, 2, 2, 4, 5],\n",
    "    \"City\": [\"SF\", \"SF\", \"SF\", \"NYC\", \"MTL\", \"NYC\"]})"
   ]
  },
  {
   "cell_type": "code",
   "execution_count": 4,
   "id": "176cc664",
   "metadata": {},
   "outputs": [],
   "source": [
    "# Add a bar graph figure\n",
    "\n",
    "fig = px.bar(df, x=\"Fruit\", y=\"Amount\", color=\"City\", barmode=\"group\")"
   ]
  },
  {
   "cell_type": "code",
   "execution_count": 5,
   "id": "e6b61aac",
   "metadata": {},
   "outputs": [],
   "source": [
    "# Add a bar graph figure\n",
    "app = JupyterDash(__name__) \n",
    "#Todo el codigo de abajo debe de ir junto por que es un solo layout y no puede ser separado en bloques\n",
    "app.layout = html.Div(children=[\n",
    "    html.H1(\n",
    "        children='Dashboard',\n",
    "        style={\n",
    "            'textAlign': 'center'\n",
    "        }\n",
    "    ),\n",
    "# Create dropdown\n",
    "dcc.Dropdown(options=[{'label': 'New York City', 'value': 'NYC'},\n",
    "            {'label': 'Montréal', 'value': 'MTL'},\n",
    "            {'label': 'San Francisco', 'value': 'SF'}\n",
    "        ],\n",
    "        value='NYC' # Providing a vallue to dropdown\n",
    "    ),\n",
    "#Bar graph\n",
    "dcc.Graph(id='example-graph-2',figure=fig)\n",
    "])\n"
   ]
  },
  {
   "cell_type": "code",
   "execution_count": 6,
   "id": "440bb465",
   "metadata": {},
   "outputs": [],
   "source": [
    "if __name__ == '__main__':\n",
    "    app.run_server(mode='jupyterlab', port = 8090, dev_tools_ui=True, debug=True,dev_tools_hot_reload =True, threaded=True)"
   ]
  },
  {
   "cell_type": "markdown",
   "id": "bd3b31dc",
   "metadata": {},
   "source": [
    "http://localhost:8090"
   ]
  }
 ],
 "metadata": {
  "kernelspec": {
   "display_name": "Python 3 (ipykernel)",
   "language": "python",
   "name": "python3"
  },
  "language_info": {
   "codemirror_mode": {
    "name": "ipython",
    "version": 3
   },
   "file_extension": ".py",
   "mimetype": "text/x-python",
   "name": "python",
   "nbconvert_exporter": "python",
   "pygments_lexer": "ipython3",
   "version": "3.8.8"
  }
 },
 "nbformat": 4,
 "nbformat_minor": 5
}
